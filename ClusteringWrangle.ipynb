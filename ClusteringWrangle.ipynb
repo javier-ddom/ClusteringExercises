{
 "cells": [
  {
   "cell_type": "code",
   "execution_count": 1,
   "id": "0d6450c6",
   "metadata": {},
   "outputs": [],
   "source": [
    "import pandas as pd\n",
    "import numpy as np\n",
    "from env import get_db_url\n",
    "\n"
   ]
  },
  {
   "cell_type": "code",
   "execution_count": 4,
   "id": "371e1642",
   "metadata": {},
   "outputs": [],
   "source": [
    "def getzillow():\n",
    "    sql_query = '''\n",
    "    select * from properties_2017\n",
    "    join predictions_2017 using (parcelid)\n",
    "    where transactiondate < '2018'\n",
    "    and propertylandusetypeid = 261;\n",
    "    '''\n",
    "    \n",
    "    zdf = pd.read_sql(sql_query, get_db_url('zillow'))\n",
    "    zdf = zdf.drop(columns='id')\n",
    "    return zdf"
   ]
  },
  {
   "cell_type": "code",
   "execution_count": 5,
   "id": "1496ce8c",
   "metadata": {},
   "outputs": [],
   "source": [
    "zdf = getzillow()"
   ]
  },
  {
   "cell_type": "code",
   "execution_count": 6,
   "id": "17656d05",
   "metadata": {},
   "outputs": [],
   "source": [
    "#zdf.head()"
   ]
  },
  {
   "cell_type": "code",
   "execution_count": 7,
   "id": "7c22279f",
   "metadata": {},
   "outputs": [],
   "source": [
    "#zdf.info()"
   ]
  },
  {
   "cell_type": "code",
   "execution_count": 8,
   "id": "eb9481cf",
   "metadata": {},
   "outputs": [],
   "source": [
    "#zdf.describe(include='all')"
   ]
  },
  {
   "cell_type": "code",
   "execution_count": 10,
   "id": "b582f4ba",
   "metadata": {},
   "outputs": [
    {
     "name": "stdout",
     "output_type": "stream",
     "text": [
      "rows: 52441\n",
      "co1umns: 60\n"
     ]
    }
   ],
   "source": [
    "print(f'rows: {zdf.shape[0]}')\n",
    "print(f'co1umns: {zdf.shape[1]}')"
   ]
  },
  {
   "cell_type": "code",
   "execution_count": 11,
   "id": "201d80ba",
   "metadata": {},
   "outputs": [],
   "source": [
    "#zdf.columns"
   ]
  },
  {
   "cell_type": "code",
   "execution_count": 12,
   "id": "2718504b",
   "metadata": {},
   "outputs": [],
   "source": [
    "#for column in zdf.columns:\n",
    "#    print(column)\n",
    "#    print(zdf[column].value_counts())\n",
    "#    print('\\n ------------------------- \\n')"
   ]
  },
  {
   "cell_type": "code",
   "execution_count": 14,
   "id": "d0f43edf",
   "metadata": {},
   "outputs": [],
   "source": [
    "#for column in zdf.columns:\n",
    "#    print(f'{column}\\n{zdf[column].value_counts()} \\n\\n ------------------------- \\n')\n"
   ]
  },
  {
   "cell_type": "code",
   "execution_count": 16,
   "id": "e0483cfc",
   "metadata": {},
   "outputs": [],
   "source": [
    "#zdf.isnull()\n"
   ]
  },
  {
   "cell_type": "code",
   "execution_count": 18,
   "id": "89769248",
   "metadata": {},
   "outputs": [],
   "source": [
    "#zdf.isnull().sum()\n"
   ]
  },
  {
   "cell_type": "code",
   "execution_count": 19,
   "id": "4e8b69a9",
   "metadata": {},
   "outputs": [
    {
     "data": {
      "text/plain": [
       "52441"
      ]
     },
     "execution_count": 19,
     "metadata": {},
     "output_type": "execute_result"
    }
   ],
   "source": [
    "zdf.shape[0]"
   ]
  },
  {
   "cell_type": "code",
   "execution_count": 21,
   "id": "2dbfe157",
   "metadata": {},
   "outputs": [],
   "source": [
    "#(zdf.isnull().sum()/zdf.shape[0]*100).sort_values(ascending=False)\n"
   ]
  },
  {
   "cell_type": "code",
   "execution_count": 25,
   "id": "f183952f",
   "metadata": {},
   "outputs": [],
   "source": [
    "nullpercents = pd.DataFrame({'num_rows_missing': zdf.isnull().sum(), 'percent_rows_missing':zdf.isnull().sum()/zdf.shape[0]*100})"
   ]
  },
  {
   "cell_type": "code",
   "execution_count": null,
   "id": "aec07e83",
   "metadata": {},
   "outputs": [],
   "source": [
    "#nullpercents"
   ]
  },
  {
   "cell_type": "code",
   "execution_count": 24,
   "id": "528f97d1",
   "metadata": {},
   "outputs": [
    {
     "data": {
      "text/plain": [
       "num_rows_missing        0.0\n",
       "percent_rows_missing    0.0\n",
       "Name: logerror, dtype: float64"
      ]
     },
     "execution_count": 24,
     "metadata": {},
     "output_type": "execute_result"
    }
   ],
   "source": [
    "nullpercents.loc['logerror']"
   ]
  },
  {
   "cell_type": "code",
   "execution_count": 26,
   "id": "82ae0ca7",
   "metadata": {},
   "outputs": [],
   "source": [
    "def nullbycol(df):\n",
    "    num_missing = zdf.isnull().sum()\n",
    "    rows = zdf.shape[0]\n",
    "    percent_missing = num_missing / rows * 100\n",
    "    cols_missing = pd.DataFrame({'num_rows_missing': num_missing, 'percent_rows_missing': percent_missing})\n",
    "    return cols_missing.sort_values(by='num_rows_missing', ascending=False)"
   ]
  },
  {
   "cell_type": "code",
   "execution_count": 28,
   "id": "0da94e51",
   "metadata": {},
   "outputs": [],
   "source": [
    "#nullbycol(zdf)"
   ]
  },
  {
   "cell_type": "code",
   "execution_count": 30,
   "id": "d6e98c53",
   "metadata": {},
   "outputs": [],
   "source": [
    "#zdf.isnull().sum(axis=1)"
   ]
  },
  {
   "cell_type": "code",
   "execution_count": 33,
   "id": "0f9d5319",
   "metadata": {},
   "outputs": [],
   "source": [
    "#zdf.isnull().sum(axis=1) / zdf.shape[1] * 100\n"
   ]
  },
  {
   "cell_type": "code",
   "execution_count": 36,
   "id": "42f7d59a",
   "metadata": {},
   "outputs": [],
   "source": [
    "null_row_df = pd.DataFrame({'num_cols_missing': zdf.isnull().sum(axis=1),\n",
    "             'percent_cols_missing': zdf.isnull().sum(axis=1)/zdf.shape[1]*100})"
   ]
  },
  {
   "cell_type": "code",
   "execution_count": null,
   "id": "a736ceda",
   "metadata": {},
   "outputs": [],
   "source": [
    "null_row_df"
   ]
  }
 ],
 "metadata": {
  "kernelspec": {
   "display_name": "Python 3 (ipykernel)",
   "language": "python",
   "name": "python3"
  },
  "language_info": {
   "codemirror_mode": {
    "name": "ipython",
    "version": 3
   },
   "file_extension": ".py",
   "mimetype": "text/x-python",
   "name": "python",
   "nbconvert_exporter": "python",
   "pygments_lexer": "ipython3",
   "version": "3.9.12"
  }
 },
 "nbformat": 4,
 "nbformat_minor": 5
}
