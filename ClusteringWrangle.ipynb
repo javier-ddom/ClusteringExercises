{
 "cells": [
  {
   "cell_type": "code",
   "execution_count": 1,
   "id": "0a3f4475",
   "metadata": {},
   "outputs": [],
   "source": [
    "import pandas as pd\n",
    "import numpy as np\n",
    "from env import get_db_url\n",
    "\n"
   ]
  },
  {
   "cell_type": "code",
   "execution_count": 4,
   "id": "e1166c3b",
   "metadata": {},
   "outputs": [],
   "source": [
    "def getzillow():\n",
    "    sql_query = '''\n",
    "    select * from properties_2017\n",
    "    join predictions_2017 using (parcelid)\n",
    "    where transactiondate < '2018'\n",
    "    and propertylandusetypeid = 261;\n",
    "    '''\n",
    "    \n",
    "    zdf = pd.read_sql(sql_query, get_db_url('zillow'))\n",
    "    zdf = zdf.drop(columns='id')\n",
    "    return zdf"
   ]
  },
  {
   "cell_type": "code",
   "execution_count": 5,
   "id": "3ad968c7",
   "metadata": {},
   "outputs": [],
   "source": [
    "zdf = getzillow()"
   ]
  },
  {
   "cell_type": "code",
   "execution_count": 6,
   "id": "c55b1d4f",
   "metadata": {},
   "outputs": [],
   "source": [
    "#zdf.head()"
   ]
  },
  {
   "cell_type": "code",
   "execution_count": 7,
   "id": "d14eb0d2",
   "metadata": {},
   "outputs": [],
   "source": [
    "#zdf.info()"
   ]
  },
  {
   "cell_type": "code",
   "execution_count": 8,
   "id": "920a03b4",
   "metadata": {},
   "outputs": [],
   "source": [
    "#zdf.describe(include='all')"
   ]
  },
  {
   "cell_type": "code",
   "execution_count": 10,
   "id": "b663482a",
   "metadata": {},
   "outputs": [
    {
     "name": "stdout",
     "output_type": "stream",
     "text": [
      "rows: 52441\n",
      "co1umns: 60\n"
     ]
    }
   ],
   "source": [
    "print(f'rows: {zdf.shape[0]}')\n",
    "print(f'co1umns: {zdf.shape[1]}')"
   ]
  },
  {
   "cell_type": "code",
   "execution_count": 11,
   "id": "40468b6d",
   "metadata": {},
   "outputs": [],
   "source": [
    "#zdf.columns"
   ]
  },
  {
   "cell_type": "code",
   "execution_count": 12,
   "id": "a5f68d86",
   "metadata": {},
   "outputs": [],
   "source": [
    "#for column in zdf.columns:\n",
    "#    print(column)\n",
    "#    print(zdf[column].value_counts())\n",
    "#    print('\\n ------------------------- \\n')"
   ]
  },
  {
   "cell_type": "code",
   "execution_count": 14,
   "id": "3248ad0d",
   "metadata": {},
   "outputs": [],
   "source": [
    "#for column in zdf.columns:\n",
    "#    print(f'{column}\\n{zdf[column].value_counts()} \\n\\n ------------------------- \\n')\n"
   ]
  },
  {
   "cell_type": "code",
   "execution_count": 16,
   "id": "54b38b4b",
   "metadata": {},
   "outputs": [],
   "source": [
    "#zdf.isnull()\n"
   ]
  },
  {
   "cell_type": "code",
   "execution_count": 18,
   "id": "c2e7c5f4",
   "metadata": {},
   "outputs": [],
   "source": [
    "#zdf.isnull().sum()\n"
   ]
  },
  {
   "cell_type": "code",
   "execution_count": 19,
   "id": "16bc6f10",
   "metadata": {},
   "outputs": [
    {
     "data": {
      "text/plain": [
       "52441"
      ]
     },
     "execution_count": 19,
     "metadata": {},
     "output_type": "execute_result"
    }
   ],
   "source": [
    "zdf.shape[0]"
   ]
  },
  {
   "cell_type": "code",
   "execution_count": 21,
   "id": "8979d1b5",
   "metadata": {},
   "outputs": [],
   "source": [
    "#(zdf.isnull().sum()/zdf.shape[0]*100).sort_values(ascending=False)\n"
   ]
  },
  {
   "cell_type": "code",
   "execution_count": 25,
   "id": "09a004bc",
   "metadata": {},
   "outputs": [],
   "source": [
    "nullpercents = pd.DataFrame({'num_rows_missing': zdf.isnull().sum(), 'percent_rows_missing':zdf.isnull().sum()/zdf.shape[0]*100})"
   ]
  },
  {
   "cell_type": "code",
   "execution_count": null,
   "id": "93dfbd15",
   "metadata": {},
   "outputs": [],
   "source": [
    "#nullpercents"
   ]
  },
  {
   "cell_type": "code",
   "execution_count": 24,
   "id": "eafa047d",
   "metadata": {},
   "outputs": [
    {
     "data": {
      "text/plain": [
       "num_rows_missing        0.0\n",
       "percent_rows_missing    0.0\n",
       "Name: logerror, dtype: float64"
      ]
     },
     "execution_count": 24,
     "metadata": {},
     "output_type": "execute_result"
    }
   ],
   "source": [
    "nullpercents.loc['logerror']"
   ]
  },
  {
   "cell_type": "code",
   "execution_count": 26,
   "id": "429d3526",
   "metadata": {},
   "outputs": [],
   "source": [
    "def nullbycol(df):\n",
    "    num_missing = zdf.isnull().sum()\n",
    "    rows = zdf.shape[0]\n",
    "    percent_missing = num_missing / rows * 100\n",
    "    cols_missing = pd.DataFrame({'num_rows_missing': num_missing, 'percent_rows_missing': percent_missing})\n",
    "    return cols_missing.sort_values(by='num_rows_missing', ascending=False)"
   ]
  },
  {
   "cell_type": "code",
   "execution_count": 28,
   "id": "d914b551",
   "metadata": {},
   "outputs": [],
   "source": [
    "#nullbycol(zdf)"
   ]
  },
  {
   "cell_type": "code",
   "execution_count": 30,
   "id": "b4ab2d7d",
   "metadata": {},
   "outputs": [],
   "source": [
    "#zdf.isnull().sum(axis=1)"
   ]
  },
  {
   "cell_type": "code",
   "execution_count": 33,
   "id": "82bd5343",
   "metadata": {},
   "outputs": [],
   "source": [
    "#zdf.isnull().sum(axis=1) / zdf.shape[1] * 100\n"
   ]
  },
  {
   "cell_type": "code",
   "execution_count": 36,
   "id": "e11648d2",
   "metadata": {},
   "outputs": [],
   "source": [
    "null_row_df = pd.DataFrame({'num_cols_missing': zdf.isnull().sum(axis=1),\n",
    "             'percent_cols_missing': zdf.isnull().sum(axis=1)/zdf.shape[1]*100})"
   ]
  },
  {
   "cell_type": "code",
   "execution_count": 37,
   "id": "7eac5d60",
   "metadata": {},
   "outputs": [],
   "source": [
    "#null_row_df"
   ]
  },
  {
   "cell_type": "code",
   "execution_count": 39,
   "id": "c8e5e236",
   "metadata": {},
   "outputs": [],
   "source": [
    "def nulls_by_row(df):\n",
    "    num_missing = df.isnull().sum(axis=1)\n",
    "    percent_miss = num_missing / df.shape[1] * 100\n",
    "    rows_missing = pd.DataFrame({'num_cols_missing':num_missing, 'percent_cols_missing':percent_miss})\n",
    "    rows_missing = df.merge(rows_missing, left_index=True, right_index=True)[['parcelid','num_cols_missing','percent_cols_missing']]\n",
    "    return rows_missing.sort_values(by='num_cols_missing',ascending=False)"
   ]
  },
  {
   "cell_type": "code",
   "execution_count": 41,
   "id": "7be78ab0",
   "metadata": {},
   "outputs": [],
   "source": [
    "#nulls_by_row(zdf)"
   ]
  },
  {
   "cell_type": "code",
   "execution_count": null,
   "id": "174aae33",
   "metadata": {},
   "outputs": [],
   "source": []
  },
  {
   "cell_type": "code",
   "execution_count": 42,
   "id": "d14b1977",
   "metadata": {},
   "outputs": [],
   "source": [
    "\n",
    "# def summarize(df):\n",
    "#     '''\n",
    "#     summarize will take in a single argument (a pandas dataframe) \n",
    "#     and output to console various statistics on said dataframe, including:\n",
    "#     # .head()\n",
    "#     # .info()\n",
    "#     # .describe()\n",
    "#     # .value_counts()\n",
    "#     # observation of nulls in the dataframe\n",
    "#     '''\n",
    "#     print('SUMMARY REPORT')\n",
    "#     print('=====================================================\\n\\n')\n",
    "#     print('Dataframe head: ')\n",
    "#     print(df.head(3))\n",
    "#     print('=====================================================\\n\\n')\n",
    "#     print('Dataframe info: ')\n",
    "#     print(df.info())\n",
    "#     print('=====================================================\\n\\n')\n",
    "#     print('Dataframe Description: ')\n",
    "#     print(df.describe())\n",
    "#     num_cols = [col for col in df.columns if df[col].dtype != 'O']\n",
    "#     cat_cols = [col for col in df.columns if col not in num_cols]\n",
    "#     print('=====================================================')\n",
    "#     print('DataFrame value counts: ')\n",
    "#     for col in df.columns:\n",
    "#         if col in cat_cols:\n",
    "#             print(df[col].value_counts(), '\\n')\n",
    "#         else:\n",
    "#             print(df[col].value_counts(bins=10, sort=False), '\\n')\n",
    "#     print('=====================================================')\n",
    "#     print('nulls in dataframe by column: ')\n",
    "#     print(nulls_by_col(df))\n",
    "#     print('=====================================================')\n",
    "#     print('nulls in dataframe by row: ')\n",
    "#     print(nulls_by_row(df))\n",
    "#     print('=====================================================')\n"
   ]
  },
  {
   "cell_type": "code",
   "execution_count": 43,
   "id": "80ef0fa3",
   "metadata": {},
   "outputs": [],
   "source": [
    "def remove_columns(df, cols_to_remove):\n",
    "    df = df.drop(columns=cols_to_remove)\n",
    "    return df"
   ]
  },
  {
   "cell_type": "code",
   "execution_count": 45,
   "id": "eb984d1f",
   "metadata": {},
   "outputs": [],
   "source": [
    "def handle_missing_values(df, prop_required_columns=0.5, prop_required_rows=0.75):\n",
    "    column_threshold = int(round(prop_required_columns * len(df.index), 0))\n",
    "    df = df.dropna(axis=1, thresh=column_threshold)\n",
    "    row_threshold = int(round(prop_required_rows * len(df.columns), 0))\n",
    "    df = df.dropna(axis=0, thresh=row_threshold)\n",
    "    return df"
   ]
  },
  {
   "cell_type": "code",
   "execution_count": 46,
   "id": "d7b13a0a",
   "metadata": {},
   "outputs": [],
   "source": [
    "def data_prep(df, col_to_remove=[], prop_required_columns=0.5, prop_required_rows=0.75):\n",
    "    df = remove_columns(df, col_to_remove)\n",
    "    df = handle_missing_values(df, prop_required_columns, prop_required_rows)\n",
    "    return df"
   ]
  },
  {
   "cell_type": "markdown",
   "id": "c3dabbc3",
   "metadata": {},
   "source": [
    "Handling Outliers\n",
    "Note your use case\n",
    "z-score: appropriate for normal data (normally distributed)\n",
    "Tukey IQR method: not contingent on normality\n",
    "Tukey Interquartile Range (IQR) Method:\n",
    "Calculate IQR\n",
    "Get Q3 and Q1\n",
    "Get difference (q3-q1)\n",
    "Establish \"fences\":\n",
    "Standard inner fence: k = 1.5\n",
    "Standard outer fence: k = 3.0\n",
    "Upper bound: q3 + k * IQR\n",
    "Lower bound: q1 - k * IQR"
   ]
  },
  {
   "cell_type": "code",
   "execution_count": null,
   "id": "190c536c",
   "metadata": {},
   "outputs": [],
   "source": []
  },
  {
   "cell_type": "code",
   "execution_count": 48,
   "id": "04109e8c",
   "metadata": {},
   "outputs": [],
   "source": [
    "def get_upper_outliers(s, k=1.5):\n",
    "    '''given a series and cutoff K, returned upper outliers'''\n",
    "    q1, q3 = s.quantile([.25,0.75])\n",
    "    iqr = q3 - q1\n",
    "    upper_bound = q3 + k * iqr\n",
    "    return s.apply(lambda x: max([x-upper_bound,0]))"
   ]
  },
  {
   "cell_type": "code",
   "execution_count": 54,
   "id": "7d1a9308",
   "metadata": {},
   "outputs": [],
   "source": [
    "def add_upper_outlier_columns(df, k=1.5):\n",
    "    '''add column iwt suffix _outliers'''\n",
    "    for col in df.select_dtypes('number'):\n",
    "        df[col + '_outliers_upper'] = get_upper_outliers(df[col], k)\n",
    "    return df"
   ]
  },
  {
   "cell_type": "code",
   "execution_count": 55,
   "id": "abde9b02",
   "metadata": {},
   "outputs": [],
   "source": [
    "df = add_upper_outlier_columns(zdf)"
   ]
  },
  {
   "cell_type": "code",
   "execution_count": 57,
   "id": "eeded794",
   "metadata": {},
   "outputs": [],
   "source": [
    "#df"
   ]
  },
  {
   "cell_type": "code",
   "execution_count": 59,
   "id": "551b9b2b",
   "metadata": {},
   "outputs": [],
   "source": [
    "# outlier_cols = [col for col in df.columns if col.endswith('_outliers_upper')]\n",
    "# for col in outlier_cols:\n",
    "#     print(col, ': ')\n",
    "#     subset = df[col][df[col] > 0]\n",
    "#     print(f'Number of Observations Above Upper Bound: {subset.count()}', '\\n')\n",
    "#     print(subset.describe())\n",
    "#     print('------', '\\n')"
   ]
  },
  {
   "cell_type": "code",
   "execution_count": null,
   "id": "6f770360",
   "metadata": {},
   "outputs": [],
   "source": []
  }
 ],
 "metadata": {
  "kernelspec": {
   "display_name": "Python 3 (ipykernel)",
   "language": "python",
   "name": "python3"
  },
  "language_info": {
   "codemirror_mode": {
    "name": "ipython",
    "version": 3
   },
   "file_extension": ".py",
   "mimetype": "text/x-python",
   "name": "python",
   "nbconvert_exporter": "python",
   "pygments_lexer": "ipython3",
   "version": "3.9.12"
  }
 },
 "nbformat": 4,
 "nbformat_minor": 5
}
